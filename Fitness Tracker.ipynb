{
 "cells": [
  {
   "cell_type": "code",
   "execution_count": null,
   "id": "a6c85470-d8c3-4a59-b837-72a1caed5083",
   "metadata": {},
   "outputs": [
    {
     "name": "stdin",
     "output_type": "stream",
     "text": [
      "enter your name sakshi\n",
      "enter your weight 45\n",
      "enter your height 210\n",
      "enter your age 22\n"
     ]
    },
    {
     "name": "stdout",
     "output_type": "stream",
     "text": [
      "\n",
      "Fitness Tracker Menu\n",
      "1. Add Workout\n",
      "2. view workout\n",
      "3. summarize\n",
      "4. Evaluate\n",
      "5. Exit\n"
     ]
    },
    {
     "name": "stdin",
     "output_type": "stream",
     "text": [
      "enter your choice 1\n",
      "enter the excersise Pushups\n",
      "enter the duration 45\n",
      "enter the date 12/4/25\n"
     ]
    },
    {
     "name": "stdout",
     "output_type": "stream",
     "text": [
      "\n",
      "Fitness Tracker Menu\n",
      "1. Add Workout\n",
      "2. view workout\n",
      "3. summarize\n",
      "4. Evaluate\n",
      "5. Exit\n"
     ]
    }
   ],
   "source": [
    "import json\n",
    "from datetime import datetime\n",
    "class workout:\n",
    "    def __init__(self,excersise,duration,date):\n",
    "        self.excersise = excersise\n",
    "        self.duration = duration\n",
    "        self.date = date\n",
    "    # def dict(self):\n",
    "    #     return{\n",
    "    #         \"date\":self.date,\n",
    "    #         \"excersise\":self.excersise,\n",
    "    #         \"duration\":self.duration\n",
    "    #     }\n",
    "class fitness:\n",
    "    def __init__(self,workout,calories,filename=\"workout.json\"):\n",
    "        self.workout = workout\n",
    "        self.calories = calories\n",
    "        self.filename = filename\n",
    "    def display(self):\n",
    "        print(f\"workout : {self.workout}\")\n",
    "        print(f\"calories : {self.calories}\")\n",
    "    def workout(self):\n",
    "        try:\n",
    "            with open(r\"self.filename\",\"w\") as file:\n",
    "                return json.load(file)\n",
    "        except FileNotFoundError:\n",
    "            return \"file not found\"\n",
    "    def add_workout(self):\n",
    "        date = datetime.now()\n",
    "        excersise = input(\"enter the excersise\")\n",
    "        duration = input(\"enter the duration\")\n",
    "        date = input(\"enter the date\")\n",
    "        new_workout = workout(excersise,duration,date)\n",
    "        with open(self.filename,\"w\") as file:\n",
    "            date = new_workout.date\n",
    "            excersise = new_workout.excersise\n",
    "            duration = new_workout.excersise \n",
    "    def view_progress(self):\n",
    "        for workout in self.workout:\n",
    "            print(f\"date:{workout.date},excersise:{workout.excersise},duration:{workout.duration}\")\n",
    "    def summarize(self):\n",
    "        total_calories = 0\n",
    "        for workout in self.workout :\n",
    "            total_calories += workout.duration\n",
    "            print(f\"total calories burn : {total_calories}\") \n",
    "    def evaluate(self):\n",
    "        if self.calories>500:\n",
    "            print(\"good job\")\n",
    "        else:\n",
    "            print(\"you need to work hard\")\n",
    "         \n",
    "def main():\n",
    "    name = input(\"enter your name\")\n",
    "    weight = input(\"enter your weight\")\n",
    "    height = input(\"enter your height\")\n",
    "    age = input(\"enter your age\")\n",
    "    tracker = fitness([],0)\n",
    "    while True:\n",
    "        print(\"\\nFitness Tracker Menu\")\n",
    "        print(\"1. Add Workout\")\n",
    "        print(\"2. view workout\")\n",
    "        print(\"3. summarize\")\n",
    "        print(\"4. Evaluate\")\n",
    "        print(\"5. Exit\")\n",
    "\n",
    "        choice = input(\"enter your choice\")\n",
    "        if choice == \"1\":\n",
    "            tracker.add_workout()\n",
    "        elif choice == \"2\":\n",
    "            tracker.view_progress()\n",
    "        elif choice == \"3\":\n",
    "            tracker.summarize()\n",
    "        elif choice == \"4\":\n",
    "            tracker.evaluate()\n",
    "        elif choice == \"5\":\n",
    "            break\n",
    "        else:\n",
    "            print(\"invalid choice\")\n",
    "\n",
    "if __name__==\"__main__\":\n",
    "    main()\n",
    "            "
   ]
  },
  {
   "cell_type": "code",
   "execution_count": null,
   "id": "e7011f65-5370-4cd6-b826-c1ca5a2a62cd",
   "metadata": {},
   "outputs": [],
   "source": []
  }
 ],
 "metadata": {
  "kernelspec": {
   "display_name": "Python [conda env:base] *",
   "language": "python",
   "name": "conda-base-py"
  },
  "language_info": {
   "codemirror_mode": {
    "name": "ipython",
    "version": 3
   },
   "file_extension": ".py",
   "mimetype": "text/x-python",
   "name": "python",
   "nbconvert_exporter": "python",
   "pygments_lexer": "ipython3",
   "version": "3.12.7"
  }
 },
 "nbformat": 4,
 "nbformat_minor": 5
}
