{
 "cells": [
  {
   "cell_type": "code",
   "execution_count": 1,
   "id": "d8b7c769-456c-40a5-893a-6b5feb10c1e5",
   "metadata": {},
   "outputs": [
    {
     "name": "stdout",
     "output_type": "stream",
     "text": [
      "Requirement already satisfied: mysql-connector-python in c:\\users\\lenovo\\anaconda\\lib\\site-packages (9.2.0)\n",
      "Note: you may need to restart the kernel to use updated packages.\n"
     ]
    }
   ],
   "source": [
    "pip install mysql-connector-python\n"
   ]
  },
  {
   "cell_type": "code",
   "execution_count": 3,
   "id": "eb24a891-c8ba-4e3b-8c6c-cd17aadb1a34",
   "metadata": {},
   "outputs": [],
   "source": [
    "import mysql.connector"
   ]
  },
  {
   "cell_type": "code",
   "execution_count": 5,
   "id": "32fdf8a1-8bad-495c-90e7-7b6401befed4",
   "metadata": {},
   "outputs": [],
   "source": [
    "myconn=mysql.connector.connect(host=\"localhost\",user='root',password=\"sakshi@12345\")"
   ]
  },
  {
   "cell_type": "code",
   "execution_count": 9,
   "id": "0d0d7d7f-d3c2-4bd9-b6e2-f0664e5be48f",
   "metadata": {},
   "outputs": [
    {
     "name": "stdout",
     "output_type": "stream",
     "text": [
      "('emp',)\n",
      "('information_schema',)\n",
      "('movie',)\n",
      "('mysql',)\n",
      "('performance_schema',)\n",
      "('school_db',)\n",
      "('store_db',)\n",
      "('student',)\n",
      "('sys',)\n",
      "('test_db',)\n"
     ]
    }
   ],
   "source": [
    "cur=myconn.cursor()\n",
    "try:\n",
    "    dbs=cur.execute('show databases')\n",
    "except:\n",
    "    myconn.rollback()\n",
    "for x in cur:\n",
    "    print(x)"
   ]
  },
  {
   "cell_type": "code",
   "execution_count": 19,
   "id": "598af94d-b818-4a53-8d73-85f428907f42",
   "metadata": {},
   "outputs": [],
   "source": [
    "myconn=mysql.connector.connect(\n",
    "    host=\"localhost\",user='root',\n",
    "    password='sakshi@12345',\n",
    "    database='emp')"
   ]
  },
  {
   "cell_type": "code",
   "execution_count": 21,
   "id": "3212b427-eb08-467b-89c9-f50cd220d501",
   "metadata": {},
   "outputs": [
    {
     "name": "stdout",
     "output_type": "stream",
     "text": [
      "[('emp',), ('emp_table',), ('employee',)]\n"
     ]
    }
   ],
   "source": [
    "mycur=myconn.cursor()\n",
    "mycur.execute('show tables')\n",
    "print(mycur.fetchall())\n"
   ]
  },
  {
   "cell_type": "code",
   "execution_count": 23,
   "id": "d59bc8e1-a026-4806-9362-231f5d5c3212",
   "metadata": {},
   "outputs": [
    {
     "name": "stdout",
     "output_type": "stream",
     "text": [
      "[(1, 'John', 'King', 33000, 'john.king@abc.com'), (2, 'Neena', 'Kochhar', 33000, 'neena@test.com'), (4, 'Massimo', 'Leo', 85000, 'leo@mail.com'), (5, 'Eve', 'Hyun', 70000, 'eve@mail.com'), (6, 'Sakshi', 'Kalashetti ', 100000, 'sakshi@mail.com')]\n"
     ]
    }
   ],
   "source": [
    "mycur.execute('select*from employee')\n",
    "print(mycur.fetchall())"
   ]
  },
  {
   "cell_type": "code",
   "execution_count": null,
   "id": "fb25321a-8593-4ae8-b5ad-6ed6683557cd",
   "metadata": {},
   "outputs": [],
   "source": []
  }
 ],
 "metadata": {
  "kernelspec": {
   "display_name": "Python [conda env:base] *",
   "language": "python",
   "name": "conda-base-py"
  },
  "language_info": {
   "codemirror_mode": {
    "name": "ipython",
    "version": 3
   },
   "file_extension": ".py",
   "mimetype": "text/x-python",
   "name": "python",
   "nbconvert_exporter": "python",
   "pygments_lexer": "ipython3",
   "version": "3.12.7"
  }
 },
 "nbformat": 4,
 "nbformat_minor": 5
}
